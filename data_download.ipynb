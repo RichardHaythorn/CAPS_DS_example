{
 "cells": [
  {
   "cell_type": "code",
   "execution_count": 4,
   "metadata": {},
   "outputs": [],
   "source": [
    "from heliopy.data.cassini import caps_els, create_caps_hdf5_file, _elsDownloader\n",
    "from datetime import datetime\n",
    "from pathlib import Path"
   ]
  },
  {
   "cell_type": "code",
   "execution_count": null,
   "metadata": {},
   "outputs": [],
   "source": [
    "caps_els(datetime(2009,12,1),datetime(2009,12,2),3)\n",
    "downloader = _elsDownloader(\"ELS\",3)"
   ]
  },
  {
   "cell_type": "code",
   "execution_count": null,
   "metadata": {},
   "outputs": [],
   "source": [
    "create_caps_hdf5_file(Path(\"C:\\\\Users\\\\richa\\\\heliopy\\\\data\\\\cassini\\\\caps\\\\els\\\\2009\\\\335\\\\ELS_200933500_V01.DAT\"),\\\n",
    "                      Path(\"C:\\\\Users\\\\richa\\\\heliopy\\\\data\\\\cassini\\\\caps\\\\els\\\\2009\\\\335\\\\ELS_200933500_V01.LBL\"),\\\n",
    "                      Path(\"C:\\\\Users\\\\richa\\\\heliopy\\\\data\\\\cassini\\\\caps\\\\els\\\\2009\\\\335\\\\ELS_V01.FMT\"))"
   ]
  },
  {
   "cell_type": "code",
   "execution_count": null,
   "metadata": {},
   "outputs": [],
   "source": [
    "df = downloader.load_local_caps_hdf_file(\"C:\\\\Users\\\\richa\\\\heliopy\\\\data\\\\cassini\\\\caps\\\\els\\\\2009\\\\335\\\\ELS_200933500_V01.hdf\")"
   ]
  },
  {
   "cell_type": "code",
   "execution_count": null,
   "metadata": {},
   "outputs": [],
   "source": [
    "df.to_csv(\"C:\\\\Users\\\\richa\\\\heliopy\\\\data\\\\cassini\\\\caps\\\\els\\\\2009\\\\335\\\\ELS_data_1.csv\")"
   ]
  }
 ],
 "metadata": {
  "kernelspec": {
   "display_name": "Python 3",
   "language": "python",
   "name": "python3"
  },
  "language_info": {
   "codemirror_mode": {
    "name": "ipython",
    "version": 3
   },
   "file_extension": ".py",
   "mimetype": "text/x-python",
   "name": "python",
   "nbconvert_exporter": "python",
   "pygments_lexer": "ipython3",
   "version": "3.11.3"
  },
  "orig_nbformat": 4
 },
 "nbformat": 4,
 "nbformat_minor": 2
}
