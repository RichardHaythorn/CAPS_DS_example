{
 "cells": [
  {
   "cell_type": "code",
   "execution_count": 1,
   "metadata": {},
   "outputs": [],
   "source": [
    "from heliopy.data.cassini import caps_els, create_caps_hdf5_file, _elsDownloader\n",
    "from datetime import datetime\n",
    "from pathlib import Path"
   ]
  },
  {
   "cell_type": "code",
   "execution_count": null,
   "metadata": {},
   "outputs": [],
   "source": [
    "year = 2009\n",
    "month = 7\n",
    "day = 8\n",
    "anode = 3\n",
    "\n",
    "caps_els(datetime(year,month,day),datetime(year,month,day),anode)\n"
   ]
  },
  {
   "cell_type": "code",
   "execution_count": 6,
   "metadata": {},
   "outputs": [],
   "source": [
    "year = \"2009\"\n",
    "day = \"205\"\n",
    "hour = \"12\"\n",
    "\n",
    "create_caps_hdf5_file(Path(f\"C:\\\\Users\\\\richa\\\\heliopy\\\\data\\\\cassini\\\\caps\\\\els\\\\{year}\\\\{day}\\\\ELS_{year}{day}{hour}_V01.DAT\"),\\\n",
    "                      Path(f\"C:\\\\Users\\\\richa\\\\heliopy\\\\data\\\\cassini\\\\caps\\\\els\\\\{year}\\\\{day}\\\\ELS_{year}{day}{hour}_V01.LBL\"),\\\n",
    "                      Path(f\"C:\\\\Users\\\\richa\\\\heliopy\\\\data\\\\cassini\\\\caps\\\\els\\\\{year}\\\\{day}\\\\ELS_V01.FMT\"))"
   ]
  },
  {
   "cell_type": "code",
   "execution_count": 10,
   "metadata": {},
   "outputs": [
    {
     "name": "stderr",
     "output_type": "stream",
     "text": [
      "c:\\Users\\richa\\AppData\\Local\\Programs\\Python\\Python311\\Lib\\site-packages\\pandas\\io\\parquet.py:159: UserWarning: The DataFrame has column names of mixed type. They will be converted to strings and not roundtrip correctly.\n",
      "  table = self.api.Table.from_pandas(df, **from_pandas_kwargs)\n"
     ]
    }
   ],
   "source": [
    "flyby = \"T59\"\n",
    "anode = 3\n",
    "\n",
    "downloader = _elsDownloader(\"ELS\",anode)\n",
    "df = downloader.load_local_caps_hdf_file(f\"C:\\\\Users\\\\richa\\\\heliopy\\\\data\\\\cassini\\\\caps\\\\els\\\\{year}\\\\{day}\\\\ELS_{year}{day}{hour}_V01.hdf\")\n",
    "df.to_parquet(f\"C:\\\\Users\\\\richa\\\\heliopy\\\\data\\\\cassini\\\\caps\\\\els\\\\{year}\\\\{day}\\\\ELS_data_{flyby}_a{anode}.parquet\")\n"
   ]
  },
  {
   "cell_type": "code",
   "execution_count": null,
   "metadata": {},
   "outputs": [],
   "source": []
  }
 ],
 "metadata": {
  "kernelspec": {
   "display_name": "Python 3",
   "language": "python",
   "name": "python3"
  },
  "language_info": {
   "codemirror_mode": {
    "name": "ipython",
    "version": 3
   },
   "file_extension": ".py",
   "mimetype": "text/x-python",
   "name": "python",
   "nbconvert_exporter": "python",
   "pygments_lexer": "ipython3",
   "version": "3.11.3"
  },
  "orig_nbformat": 4
 },
 "nbformat": 4,
 "nbformat_minor": 2
}
